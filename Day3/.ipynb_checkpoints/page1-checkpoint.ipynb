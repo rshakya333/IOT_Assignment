{
 "cells": [
  {
   "cell_type": "markdown",
   "id": "7d591432-018c-4e0e-9bc6-cfb8b15539c9",
   "metadata": {},
   "source": [
    "# first commnent"
   ]
  },
  {
   "cell_type": "markdown",
   "id": "c7deaabc-7590-4521-b885-63c76ecd357e",
   "metadata": {},
   "source": [
    "## 2nd comment"
   ]
  },
  {
   "cell_type": "markdown",
   "id": "8ef2eb88-dfe7-4b28-a40c-4880a07949aa",
   "metadata": {},
   "source": [
    "### 3rd comment"
   ]
  },
  {
   "cell_type": "markdown",
   "id": "00baeaca-d229-4863-8350-d7bc377d7d41",
   "metadata": {},
   "source": [
    "#### 4th comment"
   ]
  },
  {
   "cell_type": "code",
   "execution_count": null,
   "id": "7abbf2e9-4af6-4c7c-8ec4-b7655e9debac",
   "metadata": {},
   "outputs": [],
   "source": []
  },
  {
   "cell_type": "code",
   "execution_count": 11,
   "id": "d073765f-e0c6-48c9-964c-bc44500c6b0a",
   "metadata": {},
   "outputs": [],
   "source": [
    "import numpy as np\n",
    "import pandas as pd"
   ]
  },
  {
   "cell_type": "code",
   "execution_count": 13,
   "id": "35c5e84d-37d4-4970-98d7-b50075ab2d8c",
   "metadata": {},
   "outputs": [
    {
     "name": "stdout",
     "output_type": "stream",
     "text": [
      "Good morning\n"
     ]
    }
   ],
   "source": [
    "print(\"Good morning\")"
   ]
  },
  {
   "cell_type": "code",
   "execution_count": 15,
   "id": "9b73895b-73b7-41f0-a659-c9e03feeabf1",
   "metadata": {},
   "outputs": [
    {
     "name": "stdout",
     "output_type": "stream",
     "text": [
      "value of num = 10\n"
     ]
    }
   ],
   "source": [
    "num = 10\n",
    "print(f\"value of num = {num}\")"
   ]
  },
  {
   "cell_type": "code",
   "execution_count": 17,
   "id": "64518bd7-a8e6-4e45-84ca-8d8605379535",
   "metadata": {},
   "outputs": [
    {
     "name": "stdout",
     "output_type": "stream",
     "text": [
      "Addition = 80\n"
     ]
    }
   ],
   "source": [
    "a = 30\n",
    "b = 50\n",
    "print(f\"Addition = {a+b}\")"
   ]
  },
  {
   "cell_type": "code",
   "execution_count": 19,
   "id": "a76daa3d-a493-422d-99ac-c8d03c87155b",
   "metadata": {},
   "outputs": [
    {
     "name": "stdout",
     "output_type": "stream",
     "text": [
      "[11 22 33 44 55]\n",
      "Datatype of n_arr = <class 'numpy.ndarray'>\n"
     ]
    }
   ],
   "source": [
    "def function2():\n",
    "    n_arr = np.array([11,22,33,44,55])\n",
    "    print(n_arr)\n",
    "    print(f\"Datatype of n_arr = {type(n_arr)}\")\n",
    "function2()"
   ]
  },
  {
   "cell_type": "code",
   "execution_count": null,
   "id": "7df2d15c-7367-4eb7-979a-5cb86da538d5",
   "metadata": {},
   "outputs": [],
   "source": []
  },
  {
   "cell_type": "code",
   "execution_count": null,
   "id": "b63d302e-8abe-42a6-823f-19cdc90caf7d",
   "metadata": {},
   "outputs": [],
   "source": []
  },
  {
   "cell_type": "code",
   "execution_count": null,
   "id": "d75f54f6-186c-4851-b682-7634acd88e5d",
   "metadata": {},
   "outputs": [],
   "source": [
    "def function4():\n",
    "    print(n_arr)\n",
    "    print(f\"Datatype of arr = {type(n_arr)}\")\n",
    "    print(f\"Dtype of arr = {n_arr.dtype}\")\n",
    "    print(f\"Itemtype of arr = {n_arr.itemsize}\")\n",
    "    print(f\"size of arr = {n_arr.size}\")\n",
    "    print(f\"Dimnesion of arr = {n_arr.ndim}\")\n",
    "    print(f\"Nbytes of arr = {n_arr.nbytes}\")\n",
    " \n",
    "function4()"
   ]
  },
  {
   "cell_type": "code",
   "execution_count": null,
   "id": "54141f73-4cd7-454f-b8f5-d8f07618764f",
   "metadata": {},
   "outputs": [],
   "source": []
  },
  {
   "cell_type": "code",
   "execution_count": null,
   "id": "8386f82d-a3a4-4219-8d0e-6d914e7a7023",
   "metadata": {},
   "outputs": [],
   "source": []
  },
  {
   "cell_type": "code",
   "execution_count": null,
   "id": "eff75d58-a032-41e0-a484-7f5dcc706ae4",
   "metadata": {},
   "outputs": [],
   "source": []
  },
  {
   "cell_type": "code",
   "execution_count": null,
   "id": "16073697-c8e9-4e55-83b8-8e254b168064",
   "metadata": {},
   "outputs": [],
   "source": []
  },
  {
   "cell_type": "code",
   "execution_count": null,
   "id": "883b2070-696e-423c-bc33-0c9b3aa45c66",
   "metadata": {},
   "outputs": [],
   "source": []
  },
  {
   "cell_type": "code",
   "execution_count": null,
   "id": "8f3fd98c-d455-4aa7-b685-a9deeb65ba62",
   "metadata": {},
   "outputs": [],
   "source": []
  }
 ],
 "metadata": {
  "kernelspec": {
   "display_name": "Python [conda env:base] *",
   "language": "python",
   "name": "conda-base-py"
  },
  "language_info": {
   "codemirror_mode": {
    "name": "ipython",
    "version": 3
   },
   "file_extension": ".py",
   "mimetype": "text/x-python",
   "name": "python",
   "nbconvert_exporter": "python",
   "pygments_lexer": "ipython3",
   "version": "3.12.7"
  }
 },
 "nbformat": 4,
 "nbformat_minor": 5
}
