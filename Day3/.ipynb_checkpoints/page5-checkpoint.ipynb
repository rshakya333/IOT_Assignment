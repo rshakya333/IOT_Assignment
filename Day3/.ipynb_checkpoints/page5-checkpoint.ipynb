{
 "cells": [
  {
   "cell_type": "markdown",
   "id": "8194c877-8164-4fc4-a4fb-e34e16a87193",
   "metadata": {},
   "source": [
    "### Pandas"
   ]
  },
  {
   "cell_type": "code",
   "execution_count": 123,
   "id": "92cc8041-fbfd-4260-99f2-ed3623dbcfa6",
   "metadata": {},
   "outputs": [],
   "source": [
    "import pandas as pd  ##provides functionality to load and process the data to make it ready for machine learning\n",
    "import numpy as np                       ## used for cleaning the raw data"
   ]
  },
  {
   "cell_type": "markdown",
   "id": "3b53a06f-40dd-4954-946b-dd13d0639404",
   "metadata": {},
   "source": [
    "##### series  --- one dimensional  frame\n",
    "##### data frame  -- mumlti dimensional array"
   ]
  },
  {
   "cell_type": "code",
   "execution_count": 126,
   "id": "1ad290e5-14bb-4baa-88f7-13d73d5195fb",
   "metadata": {},
   "outputs": [
    {
     "name": "stdout",
     "output_type": "stream",
     "text": [
      "l1 = [10, 20, 30, 40, 50] Type= <class 'list'>\n",
      "n_arr = [10 20 30 40 50] Type = <class 'numpy.ndarray'>\n",
      "s_series = 0    10\n",
      "1    20\n",
      "2    30\n",
      "3    40\n",
      "4    50\n",
      "dtype: int64 Type = <class 'pandas.core.series.Series'>\n"
     ]
    }
   ],
   "source": [
    "def function1():\n",
    "    l1 = [10,20,30,40,50]\n",
    "    print(f\"l1 = {l1} Type= {type(l1)}\")\n",
    "    n_arr = np.array([10,20,30,40,50])\n",
    "    print(f\"n_arr = {n_arr} Type = {type(n_arr)}\")\n",
    "    s_series = pd.Series([10,20,30,40,50])\n",
    "    print(f\"s_series = {s_series} Type = {type(s_series)}\")\n",
    "function1()"
   ]
  },
  {
   "cell_type": "code",
   "execution_count": 128,
   "id": "ea9105e2-55aa-49c6-aac7-fd04fdc5c236",
   "metadata": {},
   "outputs": [
    {
     "name": "stdout",
     "output_type": "stream",
     "text": [
      "s_series = 0    10\n",
      "1    20\n",
      "2    30\n",
      "3    40\n",
      "4    50\n",
      "5    60\n",
      "6    70\n",
      "dtype: int64 Type = <class 'pandas.core.series.Series'>\n",
      "Type = <class 'pandas.core.series.Series'>\n",
      "DType = int64\n",
      "Size = 7\n",
      "NBytes = 56\n",
      "Shape = (7,)\n"
     ]
    }
   ],
   "source": [
    "def function2():\n",
    "\n",
    "    s_series = pd.Series([10,20,30,40,50,60,70])\n",
    "    print(f\"s_series = {s_series} Type = {type(s_series)}\")\n",
    "    print(f\"Type = {type(s_series)}\")\n",
    "    print(f\"DType = {s_series.dtype}\")\n",
    "    print(f\"Size = {s_series.size}\")\n",
    "    print(f\"NBytes = {s_series.nbytes}\")\n",
    "    print(f\"Shape = {s_series.shape}\")\n",
    "\n",
    "function2()"
   ]
  },
  {
   "cell_type": "code",
   "execution_count": 130,
   "id": "2c1d7117-9751-4f1a-b755-0d5b9366262b",
   "metadata": {},
   "outputs": [
    {
     "name": "stdout",
     "output_type": "stream",
     "text": [
      "only value of series = [10 20 30 40 50 60 70]\n",
      "only keys of series = RangeIndex(start=0, stop=7, step=1)\n"
     ]
    }
   ],
   "source": [
    "def function3():\n",
    "    s_series = pd.Series([10,20,30,40,50,60,70])\n",
    "    print(f\"only value of series = {s_series.values}\")\n",
    "    print(f\"only keys of series = {s_series.keys()}\")\n",
    "\n",
    "function3()"
   ]
  },
  {
   "cell_type": "code",
   "execution_count": null,
   "id": "44a7ee6f-08f2-4d2b-bdff-dc8d3bbc965f",
   "metadata": {},
   "outputs": [],
   "source": []
  },
  {
   "cell_type": "code",
   "execution_count": 133,
   "id": "8179c47f-4081-4813-b792-08733c4c8c14",
   "metadata": {},
   "outputs": [
    {
     "name": "stdout",
     "output_type": "stream",
     "text": [
      "0    10\n",
      "1    20\n",
      "2    30\n",
      "3    40\n",
      "4    50\n",
      "5    60\n",
      "6    70\n",
      "dtype: int64\n",
      " s1[2] = 30\n"
     ]
    }
   ],
   "source": [
    "##indexing\n",
    "\n",
    "def function3():\n",
    "    s1 = pd.Series([10,20,30,40,50,60,70])\n",
    "    print(s1)\n",
    "    print(f\" s1[2] = {s1[2]}\")  ### =>30\n",
    "    #print(f\" s1[2] = {s1[-2]}\") ### =>error for pandas only instead of numpy\n",
    "function3()\n",
    "\n"
   ]
  },
  {
   "cell_type": "code",
   "execution_count": null,
   "id": "0c9ade16-dc2b-4fe1-9d29-fadd9dbea07d",
   "metadata": {},
   "outputs": [],
   "source": []
  },
  {
   "cell_type": "code",
   "execution_count": 136,
   "id": "d278765d-5542-4a8a-ad75-c9a6bfbe0d51",
   "metadata": {},
   "outputs": [
    {
     "name": "stdout",
     "output_type": "stream",
     "text": [
      "0    10\n",
      "1    20\n",
      "2    30\n",
      "3    40\n",
      "4    50\n",
      "5    60\n",
      "6    70\n",
      "dtype: int64\n",
      " s1[2] = 30\n"
     ]
    }
   ],
   "source": [
    "##indexing\n",
    "\n",
    "def function4():\n",
    "    s1 = pd.Series([10,20,30,40,50,60,70])\n",
    "    print(s1)\n",
    "    print(f\" s1[2] = {s1[2]}\")  ### =>30\n",
    "    #print(f\" s1[2] = {s1[-2]}\") ### =>error for pandas only instead of numpy\n",
    "function4()\n",
    "\n"
   ]
  },
  {
   "cell_type": "code",
   "execution_count": 146,
   "id": "908c7ba6-ad44-47c0-9874-ebfc6e688836",
   "metadata": {},
   "outputs": [
    {
     "name": "stdout",
     "output_type": "stream",
     "text": [
      "name         Ravi\n",
      "org       sunbeam\n",
      "course       DESD\n",
      "dtype: object\n",
      "name of s1 = Ravi\n"
     ]
    }
   ],
   "source": [
    "# create pandas series using dictionary\n",
    "def function5():\n",
    "    s1 = pd.Series({\"name\": \"Ravi\",\"org\": \"sunbeam\",\"course\": \"DESD\"})\n",
    "    print(s1)\n",
    "    print(f\"name of s1 = {s1['name']}\")\n",
    "\n",
    "function5()"
   ]
  },
  {
   "cell_type": "code",
   "execution_count": null,
   "id": "fd3347b9-f6ae-4d23-9f4b-9b66977f310a",
   "metadata": {},
   "outputs": [],
   "source": []
  },
  {
   "cell_type": "code",
   "execution_count": 157,
   "id": "e8575945-4688-4a72-a8a5-f9d12ac58689",
   "metadata": {},
   "outputs": [
    {
     "name": "stdout",
     "output_type": "stream",
     "text": [
      "Average of i10 = 15\n",
      "i20       17\n",
      "i10       15\n",
      "sonet     18\n",
      "seltos    12\n",
      "xuv700    19\n",
      "dtype: int64\n",
      "Average of i10 = 15\n"
     ]
    }
   ],
   "source": [
    "# create pandas series using dictionary\n",
    "def function6():\n",
    "    cars = [\"i20\",\"i10\",\"sonet\",\"seltos\",\"xuv700\"]\n",
    "    avg = [17,15,18,12,19]\n",
    "\n",
    "    i10_index = cars.index(\"i10\")\n",
    "    print(f\"Average of i10 = {avg[i10_index]}\")\n",
    "\n",
    "## implement with series of pandas\n",
    "## series obj created with index\n",
    "\n",
    "    s1 = pd.Series(avg, index = cars)\n",
    "    print(s1)\n",
    "    print(f\"Average of i10 = {s1['i10']}\")\n",
    "\n",
    "function6()\n",
    "    \n"
   ]
  },
  {
   "cell_type": "code",
   "execution_count": null,
   "id": "51117840-a956-4b73-8f05-fe74d39f0065",
   "metadata": {},
   "outputs": [],
   "source": []
  },
  {
   "cell_type": "code",
   "execution_count": null,
   "id": "169e6792-d30d-4518-849f-c814dc7c77f4",
   "metadata": {},
   "outputs": [],
   "source": []
  },
  {
   "cell_type": "code",
   "execution_count": null,
   "id": "cde7ba8a-10cc-4da7-a338-83e9bdd4f92b",
   "metadata": {},
   "outputs": [],
   "source": []
  },
  {
   "cell_type": "code",
   "execution_count": null,
   "id": "8acfd21e-ff38-43fc-a8c2-3e25d82d3648",
   "metadata": {},
   "outputs": [],
   "source": []
  },
  {
   "cell_type": "code",
   "execution_count": null,
   "id": "84091b39-5482-4afd-98d5-fd38565cab7e",
   "metadata": {},
   "outputs": [],
   "source": []
  },
  {
   "cell_type": "code",
   "execution_count": null,
   "id": "f152de2f-1daa-431f-a388-a8e10b9d1e73",
   "metadata": {},
   "outputs": [],
   "source": []
  },
  {
   "cell_type": "code",
   "execution_count": null,
   "id": "8479ef0d-f632-401c-b992-4bcbe25963f0",
   "metadata": {},
   "outputs": [],
   "source": []
  },
  {
   "cell_type": "code",
   "execution_count": null,
   "id": "18a70c77-5457-4e49-ba77-4ec09a1477ca",
   "metadata": {},
   "outputs": [],
   "source": []
  },
  {
   "cell_type": "code",
   "execution_count": null,
   "id": "63f9d19d-fa42-40f7-98e0-d94ea661d880",
   "metadata": {},
   "outputs": [],
   "source": []
  },
  {
   "cell_type": "code",
   "execution_count": null,
   "id": "39276fff-88fe-41d4-a486-d5178ffce5d5",
   "metadata": {},
   "outputs": [],
   "source": []
  },
  {
   "cell_type": "code",
   "execution_count": null,
   "id": "e770705c-385b-4e2c-8ec2-eec692e383de",
   "metadata": {},
   "outputs": [],
   "source": []
  },
  {
   "cell_type": "code",
   "execution_count": null,
   "id": "c319eb87-314e-40ea-8deb-f45230961ce9",
   "metadata": {},
   "outputs": [],
   "source": []
  },
  {
   "cell_type": "code",
   "execution_count": null,
   "id": "9fdbef0a-520e-40f5-9d55-591317c4dbda",
   "metadata": {},
   "outputs": [],
   "source": []
  }
 ],
 "metadata": {
  "kernelspec": {
   "display_name": "Python [conda env:base] *",
   "language": "python",
   "name": "conda-base-py"
  },
  "language_info": {
   "codemirror_mode": {
    "name": "ipython",
    "version": 3
   },
   "file_extension": ".py",
   "mimetype": "text/x-python",
   "name": "python",
   "nbconvert_exporter": "python",
   "pygments_lexer": "ipython3",
   "version": "3.12.7"
  }
 },
 "nbformat": 4,
 "nbformat_minor": 5
}
