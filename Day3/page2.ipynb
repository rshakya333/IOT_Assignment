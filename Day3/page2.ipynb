{
 "cells": [
  {
   "cell_type": "markdown",
   "id": "ecff8cfa-9e09-429d-ac8e-6c191712e682",
   "metadata": {},
   "source": [
    "# numpy demos"
   ]
  },
  {
   "cell_type": "code",
   "execution_count": 3,
   "id": "52c0cf6b-5df3-4781-8cfa-eed744ff88c0",
   "metadata": {},
   "outputs": [],
   "source": [
    "import numpy as np"
   ]
  },
  {
   "cell_type": "code",
   "execution_count": 15,
   "id": "ab063d5e-1711-436e-97d4-9b9414bebbd9",
   "metadata": {},
   "outputs": [
    {
     "name": "stdout",
     "output_type": "stream",
     "text": [
      "[11, 22, 33, 44, 55]\n",
      "list l1 = [11, 22, 33, 44, 55]\n",
      "Datetype of l1 = <class 'list'>\n"
     ]
    }
   ],
   "source": [
    "def function1():\n",
    "    l1 = [11,22,33,44,55]\n",
    "    print(l1)\n",
    "    print(f\"list l1 = {l1}\")\n",
    "    print(f\"Datetype of l1 = {type(l1)}\")\n",
    "\n",
    "function1()"
   ]
  },
  {
   "cell_type": "code",
   "execution_count": null,
   "id": "83ae0a5b-f8ff-4c68-a383-b2f082ee51b2",
   "metadata": {},
   "outputs": [],
   "source": []
  },
  {
   "cell_type": "code",
   "execution_count": null,
   "id": "fabee96e-98ea-4fa4-9a7f-5a1d45df88e1",
   "metadata": {},
   "outputs": [],
   "source": []
  },
  {
   "cell_type": "code",
   "execution_count": null,
   "id": "31209d91-842b-460d-8092-e2903cd06d85",
   "metadata": {},
   "outputs": [],
   "source": []
  },
  {
   "cell_type": "code",
   "execution_count": null,
   "id": "bff3bdbc-4ab1-4c79-8d9a-1d2fc71833d4",
   "metadata": {},
   "outputs": [],
   "source": []
  }
 ],
 "metadata": {
  "kernelspec": {
   "display_name": "Python [conda env:base] *",
   "language": "python",
   "name": "conda-base-py"
  },
  "language_info": {
   "codemirror_mode": {
    "name": "ipython",
    "version": 3
   },
   "file_extension": ".py",
   "mimetype": "text/x-python",
   "name": "python",
   "nbconvert_exporter": "python",
   "pygments_lexer": "ipython3",
   "version": "3.12.7"
  }
 },
 "nbformat": 4,
 "nbformat_minor": 5
}
