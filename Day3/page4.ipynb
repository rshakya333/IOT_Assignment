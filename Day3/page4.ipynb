{
 "cells": [
  {
   "cell_type": "markdown",
   "id": "8f913ff3-d98a-49c9-8404-fdff2939635e",
   "metadata": {},
   "source": [
    "### arrange()"
   ]
  },
  {
   "cell_type": "code",
   "execution_count": 1,
   "id": "139812e3-aef5-4139-b98b-1e629ec676a9",
   "metadata": {},
   "outputs": [],
   "source": [
    "import numpy as np"
   ]
  },
  {
   "cell_type": "code",
   "execution_count": 3,
   "id": "f854b70c-ef20-4247-b581-f9618d6f8dc2",
   "metadata": {},
   "outputs": [
    {
     "name": "stdout",
     "output_type": "stream",
     "text": [
      "[0 1 2 3 4 5 6 7 8 9]\n",
      "[10 12 14 16 18 20 22 24]\n"
     ]
    }
   ],
   "source": [
    "arr1 = np.arange(0,10)\n",
    "print(arr1)\n",
    "arr2= np.arange(10,25,2)\n",
    "print(arr2)"
   ]
  },
  {
   "cell_type": "code",
   "execution_count": 5,
   "id": "2a5916e6-8fcc-47a1-b0b7-9b6fa89c1560",
   "metadata": {},
   "outputs": [
    {
     "name": "stdout",
     "output_type": "stream",
     "text": [
      "[1 4 7]\n"
     ]
    }
   ],
   "source": [
    "arr3= np.arange(1,10,3)\n",
    "print(arr3)"
   ]
  },
  {
   "cell_type": "code",
   "execution_count": 16,
   "id": "7aca5e13-a290-4361-8fa1-5bf8bb3fe772",
   "metadata": {},
   "outputs": [
    {
     "name": "stdout",
     "output_type": "stream",
     "text": [
      "[1 1 1 1 1]\n"
     ]
    }
   ],
   "source": [
    "arr4 = np.ones(5,dtype = np.int8)\n",
    "print(arr4)"
   ]
  },
  {
   "cell_type": "code",
   "execution_count": 18,
   "id": "5558e731-0fad-4059-a664-ff2d3337e8bb",
   "metadata": {},
   "outputs": [
    {
     "name": "stdout",
     "output_type": "stream",
     "text": [
      "[0 0 0 0 0]\n"
     ]
    }
   ],
   "source": [
    "arr4 = np.zeros(5,dtype = np.int8)\n",
    "print(arr4)"
   ]
  },
  {
   "cell_type": "code",
   "execution_count": null,
   "id": "2e64165f-1a86-41aa-957c-e7abd0130339",
   "metadata": {},
   "outputs": [],
   "source": [
    "n1 = np.array([11,22,33,44])\n",
    "n2 = np.array([10,20,30,40])"
   ]
  },
  {
   "cell_type": "code",
   "execution_count": null,
   "id": "f6991151-07d4-43b9-bf0e-5b9d36f776cc",
   "metadata": {},
   "outputs": [],
   "source": []
  },
  {
   "cell_type": "code",
   "execution_count": null,
   "id": "40d7f808-cc9e-405e-9704-0dc77c2954db",
   "metadata": {},
   "outputs": [],
   "source": []
  },
  {
   "cell_type": "code",
   "execution_count": null,
   "id": "02eb3d30-cbb1-448f-a84a-1945fd9f1c34",
   "metadata": {},
   "outputs": [],
   "source": []
  },
  {
   "cell_type": "code",
   "execution_count": null,
   "id": "9cce0aac-c697-4dd8-8699-ebe6ad4f2464",
   "metadata": {},
   "outputs": [],
   "source": []
  },
  {
   "cell_type": "code",
   "execution_count": null,
   "id": "0bfde42f-fcce-4ffc-bd1c-1790c4311563",
   "metadata": {},
   "outputs": [],
   "source": []
  },
  {
   "cell_type": "code",
   "execution_count": null,
   "id": "c926a7fa-477a-45b9-95d6-410e78efa25b",
   "metadata": {},
   "outputs": [],
   "source": []
  },
  {
   "cell_type": "code",
   "execution_count": null,
   "id": "94aca3e7-3812-45a4-897e-483ff4367214",
   "metadata": {},
   "outputs": [],
   "source": []
  },
  {
   "cell_type": "code",
   "execution_count": null,
   "id": "fb80c77b-10d6-4fe7-bcc9-88ad116b2fc7",
   "metadata": {},
   "outputs": [],
   "source": []
  },
  {
   "cell_type": "code",
   "execution_count": null,
   "id": "d4a4920a-03e4-4234-8a1a-0be35929ef9d",
   "metadata": {},
   "outputs": [],
   "source": []
  },
  {
   "cell_type": "code",
   "execution_count": null,
   "id": "fd381a24-a1ae-439f-9e60-d626b6972e94",
   "metadata": {},
   "outputs": [],
   "source": []
  },
  {
   "cell_type": "code",
   "execution_count": null,
   "id": "1a0b4f6b-3895-4195-bf0d-c4ebb2be9a63",
   "metadata": {},
   "outputs": [],
   "source": []
  },
  {
   "cell_type": "code",
   "execution_count": null,
   "id": "23ade733-c41d-478d-9384-4e5862cb6587",
   "metadata": {},
   "outputs": [],
   "source": []
  },
  {
   "cell_type": "code",
   "execution_count": null,
   "id": "093638a0-e188-4cf9-bf51-3d0ad3eb36e8",
   "metadata": {},
   "outputs": [],
   "source": []
  },
  {
   "cell_type": "code",
   "execution_count": null,
   "id": "99d3bc80-e669-4690-9f89-2d28c7051bc5",
   "metadata": {},
   "outputs": [],
   "source": []
  }
 ],
 "metadata": {
  "kernelspec": {
   "display_name": "Python [conda env:base] *",
   "language": "python",
   "name": "conda-base-py"
  },
  "language_info": {
   "codemirror_mode": {
    "name": "ipython",
    "version": 3
   },
   "file_extension": ".py",
   "mimetype": "text/x-python",
   "name": "python",
   "nbconvert_exporter": "python",
   "pygments_lexer": "ipython3",
   "version": "3.12.7"
  }
 },
 "nbformat": 4,
 "nbformat_minor": 5
}
